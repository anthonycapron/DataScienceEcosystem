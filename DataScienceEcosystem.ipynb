{
 "cells": [
  {
   "cell_type": "markdown",
   "id": "eaba6986-851a-434a-96c3-5f0aa8d9700e",
   "metadata": {},
   "source": [
    "<h1>Data Science Tools and Ecosystem </h1>"
   ]
  },
  {
   "cell_type": "markdown",
   "id": "6dce6260-dd2c-4274-8bf3-b0d28ba4b8a9",
   "metadata": {},
   "source": [
    "In this notebook, Data Science Tools and Ecosystem are summarized."
   ]
  },
  {
   "cell_type": "markdown",
   "id": "a3558cd7-ae71-47a3-8fd6-2380f35f1a08",
   "metadata": {},
   "source": [
    "<u>Some of the popular languages that Data Scientists use are:</u>"
   ]
  },
  {
   "cell_type": "markdown",
   "id": "a5a06232-0fec-498d-ba0e-f04036c3056f",
   "metadata": {},
   "source": [
    "Languageslist = [\"Phyton\" , \"R\" , \"SQL\", \"Java\", \"Julia\", \"C/C++\" , \"JavaScript\", \"Swift\", \"Go\", \"MATLAB\" , \"SAS\"]\n",
    "\n",
    "for num, x in enumerate(Languageslist) : \n",
    "    print (\"{} = {}\".format(num,x))"
   ]
  },
  {
   "cell_type": "markdown",
   "id": "5640264b-136c-4153-8bee-3fb1ee310491",
   "metadata": {},
   "source": [
    "|Data Science Tools |\n",
    "|----------------------|\n",
    "| RStudio |\n",
    "| Apache Spark |\n",
    "| TensorFlow |"
   ]
  },
  {
   "cell_type": "markdown",
   "id": "13e2178d-c740-4a67-bef9-1bd295740870",
   "metadata": {},
   "source": [
    "<b>Some of the commonly used libraries used by Data Scientists include:</b>"
   ]
  },
  {
   "cell_type": "code",
   "execution_count": 6,
   "id": "a1910845-3bb7-440e-8416-3ac857de80fb",
   "metadata": {},
   "outputs": [
    {
     "name": "stdout",
     "output_type": "stream",
     "text": [
      "0 = NumPy\n",
      "1 = SciPy\n",
      "2 = Pandas\n"
     ]
    }
   ],
   "source": [
    "liblist = [\"NumPy\" , \"SciPy\" , \"Pandas\"]\n",
    "\n",
    "for num, x in enumerate(liblist) : \n",
    "    print (\"{} = {}\".format(num,x))"
   ]
  },
  {
   "cell_type": "markdown",
   "id": "b4fc6770-fd92-4b05-9c5b-a06809d77b58",
   "metadata": {},
   "source": [
    "<h3> Objectives:  </H3>"
   ]
  },
  {
   "cell_type": "markdown",
   "id": "a2e4b330-1605-4fe5-ad9f-2986f8bb7e94",
   "metadata": {},
   "source": [
    ". List popular languages for Data Science\n",
    "\n",
    ". List popular libraries\n",
    "\n",
    ". Some calculs with Python"
   ]
  },
  {
   "cell_type": "markdown",
   "id": "a98cf0aa-c088-4f03-82ef-e68a3655fa59",
   "metadata": {},
   "source": [
    "<H3> Below are a few examples of evaluating arithmetic expressions in Python </H3>\n",
    "\n"
   ]
  },
  {
   "cell_type": "code",
   "execution_count": 11,
   "id": "586cf8dd-f925-41dc-8b3c-ac96a1e38c62",
   "metadata": {},
   "outputs": [
    {
     "name": "stdout",
     "output_type": "stream",
     "text": [
      "10\n"
     ]
    }
   ],
   "source": [
    "a = 10\n",
    "print (a)"
   ]
  },
  {
   "cell_type": "markdown",
   "id": "cd78a56e-defb-45e5-afd9-0782134fa587",
   "metadata": {},
   "source": [
    "<H3> Below are a few examples of evaluating arithmetic expressions in Python </H3>"
   ]
  },
  {
   "cell_type": "markdown",
   "id": "f979e5be-7c9f-42ee-9251-81fc218b9c8e",
   "metadata": {},
   "source": [
    "This a simple arithmetic expression to mutiply then add integers"
   ]
  },
  {
   "cell_type": "code",
   "execution_count": 12,
   "id": "9f2f16a9-1f2d-4b68-972c-0f4c4a0335ed",
   "metadata": {},
   "outputs": [
    {
     "name": "stdout",
     "output_type": "stream",
     "text": [
      "17\n"
     ]
    }
   ],
   "source": [
    "print ((3*4)+5)"
   ]
  },
  {
   "cell_type": "markdown",
   "id": "87b9e746-7d88-47b7-8421-1fa811aace94",
   "metadata": {},
   "source": [
    "This will convert 200 minutes to hours by diving by 60"
   ]
  },
  {
   "cell_type": "code",
   "execution_count": 18,
   "id": "377fa5f5-b98f-441d-b747-9883431141fa",
   "metadata": {},
   "outputs": [
    {
     "name": "stdout",
     "output_type": "stream",
     "text": [
      "3.3333333333333335\n"
     ]
    }
   ],
   "source": [
    "min = 200\n",
    "hour = min / 60\n",
    "print (hour) "
   ]
  },
  {
   "cell_type": "markdown",
   "id": "6f47caec-75fc-4ad7-9225-86b656450739",
   "metadata": {},
   "source": [
    "<h2> Author </h2> "
   ]
  },
  {
   "cell_type": "markdown",
   "id": "0eea2fb0-033d-49fa-a7ff-626eb6dc05d6",
   "metadata": {},
   "source": [
    "Anthony Capron"
   ]
  },
  {
   "cell_type": "code",
   "execution_count": null,
   "id": "e217bd73-f5aa-4ec1-9b1a-c842d546fdcd",
   "metadata": {},
   "outputs": [],
   "source": []
  }
 ],
 "metadata": {
  "kernelspec": {
   "display_name": "Python 3 (ipykernel)",
   "language": "python",
   "name": "python3"
  },
  "language_info": {
   "codemirror_mode": {
    "name": "ipython",
    "version": 3
   },
   "file_extension": ".py",
   "mimetype": "text/x-python",
   "name": "python",
   "nbconvert_exporter": "python",
   "pygments_lexer": "ipython3",
   "version": "3.10.9"
  }
 },
 "nbformat": 4,
 "nbformat_minor": 5
}
